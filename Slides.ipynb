{
 "cells": [
  {
   "cell_type": "markdown",
   "id": "outer-rabbit",
   "metadata": {},
   "source": [
    "# AI & ML"
   ]
  },
  {
   "cell_type": "markdown",
   "id": "undefined-parking",
   "metadata": {},
   "source": [
    "Rule based AI"
   ]
  },
  {
   "cell_type": "markdown",
   "id": "addressed-journal",
   "metadata": {},
   "source": [
    "Pattern, Features based AI"
   ]
  },
  {
   "cell_type": "markdown",
   "id": "intermediate-nickel",
   "metadata": {},
   "source": [
    "Statistics     <br/> ML         <br/> DL        <br/> Reinforcement"
   ]
  },
  {
   "cell_type": "markdown",
   "id": "gothic-bubble",
   "metadata": {},
   "source": [
    "Supervised"
   ]
  },
  {
   "cell_type": "markdown",
   "id": "integrated-assets",
   "metadata": {},
   "source": [
    "Unsupervised"
   ]
  },
  {
   "cell_type": "markdown",
   "id": "pharmaceutical-springer",
   "metadata": {},
   "source": [
    "Neural Network"
   ]
  },
  {
   "cell_type": "markdown",
   "id": "quality-heavy",
   "metadata": {},
   "source": [
    "Semi-Supervised"
   ]
  },
  {
   "cell_type": "markdown",
   "id": "accredited-calculator",
   "metadata": {},
   "source": [
    "Self-Supervised"
   ]
  },
  {
   "cell_type": "markdown",
   "id": "funded-wagon",
   "metadata": {},
   "source": [
    "# Domain (Kind of Data)"
   ]
  },
  {
   "cell_type": "markdown",
   "id": "horizontal-lawrence",
   "metadata": {},
   "source": [
    "Structured <br/> Unstructured <br/> Text <br/> Images <br/> Videos <br/> Numbers"
   ]
  },
  {
   "cell_type": "markdown",
   "id": "defensive-reach",
   "metadata": {},
   "source": [
    "# Type of Data"
   ]
  },
  {
   "cell_type": "markdown",
   "id": "headed-textbook",
   "metadata": {},
   "source": [
    "Categorical <br/> Continueous <br/> "
   ]
  },
  {
   "cell_type": "markdown",
   "id": "thousand-mechanism",
   "metadata": {},
   "source": [
    "# Python"
   ]
  },
  {
   "cell_type": "code",
   "execution_count": 1,
   "id": "lightweight-affiliation",
   "metadata": {},
   "outputs": [
    {
     "data": {
      "text/plain": [
       "\"It's\""
      ]
     },
     "execution_count": 1,
     "metadata": {},
     "output_type": "execute_result"
    }
   ],
   "source": [
    "# No need to specify the type of data\n",
    "a = 3.5\n",
    "b = \"It's\" \n",
    "b"
   ]
  },
  {
   "cell_type": "code",
   "execution_count": 3,
   "id": "addressed-tactics",
   "metadata": {},
   "outputs": [
    {
     "data": {
      "text/plain": [
       "23.5"
      ]
     },
     "execution_count": 3,
     "metadata": {},
     "output_type": "execute_result"
    }
   ],
   "source": [
    "#assignment\n",
    "a = a + 10\n",
    "a"
   ]
  },
  {
   "cell_type": "code",
   "execution_count": 23,
   "id": "touched-librarian",
   "metadata": {},
   "outputs": [
    {
     "data": {
      "text/plain": [
       "23.5"
      ]
     },
     "execution_count": 23,
     "metadata": {},
     "output_type": "execute_result"
    }
   ],
   "source": [
    "a = a + 10\n",
    "a"
   ]
  },
  {
   "cell_type": "code",
   "execution_count": 7,
   "id": "first-heaven",
   "metadata": {},
   "outputs": [
    {
     "data": {
      "text/plain": [
       "'mayurAI'"
      ]
     },
     "execution_count": 7,
     "metadata": {},
     "output_type": "execute_result"
    }
   ],
   "source": [
    "b + '10'\n",
    "'mayur' + 'AI'"
   ]
  },
  {
   "cell_type": "code",
   "execution_count": 25,
   "id": "interstate-oregon",
   "metadata": {},
   "outputs": [
    {
     "ename": "TypeError",
     "evalue": "can only concatenate str (not \"int\") to str",
     "output_type": "error",
     "traceback": [
      "\u001b[1;31m---------------------------------------------------------------------------\u001b[0m",
      "\u001b[1;31mTypeError\u001b[0m                                 Traceback (most recent call last)",
      "\u001b[1;32m<ipython-input-25-ecc308ba1cce>\u001b[0m in \u001b[0;36m<module>\u001b[1;34m\u001b[0m\n\u001b[1;32m----> 1\u001b[1;33m \u001b[0mb\u001b[0m \u001b[1;33m+\u001b[0m \u001b[1;36m10\u001b[0m\u001b[1;33m\u001b[0m\u001b[1;33m\u001b[0m\u001b[0m\n\u001b[0m",
      "\u001b[1;31mTypeError\u001b[0m: can only concatenate str (not \"int\") to str"
     ]
    }
   ],
   "source": [
    "b + 10"
   ]
  },
  {
   "cell_type": "code",
   "execution_count": 26,
   "id": "neutral-scanner",
   "metadata": {},
   "outputs": [
    {
     "data": {
      "text/plain": [
       "\"It's10\""
      ]
     },
     "execution_count": 26,
     "metadata": {},
     "output_type": "execute_result"
    }
   ],
   "source": [
    "b + str(10)"
   ]
  },
  {
   "cell_type": "code",
   "execution_count": 8,
   "id": "charged-luxury",
   "metadata": {},
   "outputs": [
    {
     "name": "stdout",
     "output_type": "stream",
     "text": [
      "y\n",
      "r\n",
      "My n\n",
      "me\n",
      "ruyaM si eman yM\n"
     ]
    }
   ],
   "source": [
    "#String\n",
    "z = \"My name is Mayur\"\n",
    "print(z[1])\n",
    "print(z[-1])\n",
    "print(z[:4])\n",
    "print(z[5:7])\n",
    "print(z[::-1])"
   ]
  },
  {
   "cell_type": "code",
   "execution_count": 9,
   "id": "pediatric-hydrogen",
   "metadata": {},
   "outputs": [
    {
     "name": "stdout",
     "output_type": "stream",
     "text": [
      "It is integer 23.5\n"
     ]
    }
   ],
   "source": [
    "print(f\"It is integer {a}\")\n"
   ]
  },
  {
   "cell_type": "code",
   "execution_count": 14,
   "id": "appreciated-runner",
   "metadata": {},
   "outputs": [
    {
     "data": {
      "text/plain": [
       "[[1], [2], [3], [4]]"
      ]
     },
     "execution_count": 14,
     "metadata": {},
     "output_type": "execute_result"
    }
   ],
   "source": [
    "# List\n",
    "a = [[1],[2], [3], [4]]\n",
    "a"
   ]
  },
  {
   "cell_type": "code",
   "execution_count": 18,
   "id": "fabulous-excuse",
   "metadata": {},
   "outputs": [
    {
     "data": {
      "text/plain": [
       "[[2], [2], [3], [4]]"
      ]
     },
     "execution_count": 18,
     "metadata": {},
     "output_type": "execute_result"
    }
   ],
   "source": [
    "a[0] = [2]\n",
    "a"
   ]
  },
  {
   "cell_type": "code",
   "execution_count": 30,
   "id": "german-comedy",
   "metadata": {},
   "outputs": [],
   "source": [
    "# List Comprehensions"
   ]
  },
  {
   "cell_type": "code",
   "execution_count": 20,
   "id": "killing-arrangement",
   "metadata": {},
   "outputs": [
    {
     "ename": "TypeError",
     "evalue": "'tuple' object does not support item assignment",
     "output_type": "error",
     "traceback": [
      "\u001b[1;31m---------------------------------------------------------------------------\u001b[0m",
      "\u001b[1;31mTypeError\u001b[0m                                 Traceback (most recent call last)",
      "\u001b[1;32m<ipython-input-20-664f4f3d1816>\u001b[0m in \u001b[0;36m<module>\u001b[1;34m\u001b[0m\n\u001b[0;32m      2\u001b[0m \u001b[0mtu\u001b[0m \u001b[1;33m=\u001b[0m \u001b[1;33m(\u001b[0m\u001b[1;36m4\u001b[0m\u001b[1;33m,\u001b[0m \u001b[1;36m5\u001b[0m\u001b[1;33m,\u001b[0m \u001b[1;36m6\u001b[0m\u001b[1;33m)\u001b[0m\u001b[1;33m\u001b[0m\u001b[1;33m\u001b[0m\u001b[0m\n\u001b[0;32m      3\u001b[0m \u001b[0mtu\u001b[0m\u001b[1;33m\u001b[0m\u001b[1;33m\u001b[0m\u001b[0m\n\u001b[1;32m----> 4\u001b[1;33m \u001b[0mtu\u001b[0m\u001b[1;33m[\u001b[0m\u001b[1;36m0\u001b[0m\u001b[1;33m]\u001b[0m \u001b[1;33m=\u001b[0m \u001b[1;36m34\u001b[0m\u001b[1;33m\u001b[0m\u001b[1;33m\u001b[0m\u001b[0m\n\u001b[0m",
      "\u001b[1;31mTypeError\u001b[0m: 'tuple' object does not support item assignment"
     ]
    }
   ],
   "source": [
    "# Tuple\n",
    "tu = (4, 5, 6)\n",
    "tu\n",
    "tu[0] = 34"
   ]
  },
  {
   "cell_type": "code",
   "execution_count": 24,
   "id": "inappropriate-alabama",
   "metadata": {},
   "outputs": [
    {
     "data": {
      "text/plain": [
       "{'age': 16, 'h': 4}"
      ]
     },
     "execution_count": 24,
     "metadata": {},
     "output_type": "execute_result"
    }
   ],
   "source": [
    "#Dictionary\n",
    "d = {\"age\" : 16, \"h\" : 4}\n",
    "d"
   ]
  },
  {
   "cell_type": "code",
   "execution_count": 27,
   "id": "living-remark",
   "metadata": {},
   "outputs": [
    {
     "data": {
      "text/plain": [
       "16"
      ]
     },
     "execution_count": 27,
     "metadata": {},
     "output_type": "execute_result"
    }
   ],
   "source": [
    "d[\"age\"]"
   ]
  },
  {
   "cell_type": "code",
   "execution_count": 31,
   "id": "compound-release",
   "metadata": {},
   "outputs": [
    {
     "data": {
      "text/plain": [
       "{1, 2, 3}"
      ]
     },
     "execution_count": 31,
     "metadata": {},
     "output_type": "execute_result"
    }
   ],
   "source": [
    "# Set\n",
    "a = set((1,2,3))\n",
    "a"
   ]
  },
  {
   "cell_type": "code",
   "execution_count": 45,
   "id": "headed-vancouver",
   "metadata": {},
   "outputs": [
    {
     "data": {
      "text/plain": [
       "(420, 788, 3)"
      ]
     },
     "execution_count": 45,
     "metadata": {},
     "output_type": "execute_result"
    }
   ],
   "source": [
    "import cv2\n",
    "img = cv2.imread(\"1.PNG\")\n",
    "img.shape"
   ]
  },
  {
   "cell_type": "code",
   "execution_count": 32,
   "id": "centered-affiliation",
   "metadata": {},
   "outputs": [
    {
     "data": {
      "text/plain": [
       "'First Line\\nSecond Line\\n;lsdflsdf'"
      ]
     },
     "execution_count": 32,
     "metadata": {},
     "output_type": "execute_result"
    }
   ],
   "source": [
    "#File\n",
    "fi = open(\"test.txt\", 'r')\n",
    "fi.read()"
   ]
  },
  {
   "cell_type": "code",
   "execution_count": 33,
   "id": "sustained-commerce",
   "metadata": {},
   "outputs": [],
   "source": [
    "#Functions\n",
    "def add(a, b=3):\n",
    "    return a+b"
   ]
  },
  {
   "cell_type": "code",
   "execution_count": 35,
   "id": "corresponding-bread",
   "metadata": {},
   "outputs": [
    {
     "data": {
      "text/plain": [
       "79"
      ]
     },
     "execution_count": 35,
     "metadata": {},
     "output_type": "execute_result"
    }
   ],
   "source": [
    "addition = add(2, 77)\n",
    "addition"
   ]
  },
  {
   "cell_type": "code",
   "execution_count": null,
   "id": "arbitrary-river",
   "metadata": {},
   "outputs": [],
   "source": []
  },
  {
   "cell_type": "code",
   "execution_count": 36,
   "id": "oriented-anthony",
   "metadata": {},
   "outputs": [
    {
     "name": "stdout",
     "output_type": "stream",
     "text": [
      "Requirement already satisfied: opencv-python in c:\\users\\mayur.akewar\\appdata\\local\\programs\\python\\python38\\lib\\site-packages (4.5.2.52)\n",
      "Requirement already satisfied: numpy>=1.17.3 in c:\\users\\mayur.akewar\\appdata\\local\\programs\\python\\python38\\lib\\site-packages (from opencv-python) (1.19.5)\n"
     ]
    },
    {
     "name": "stderr",
     "output_type": "stream",
     "text": [
      "WARNING: You are using pip version 21.3; however, version 21.3.1 is available.\n",
      "You should consider upgrading via the 'c:\\users\\mayur.akewar\\appdata\\local\\programs\\python\\python38\\python.exe -m pip install --upgrade pip' command.\n"
     ]
    }
   ],
   "source": [
    "!pip install opencv-python"
   ]
  },
  {
   "cell_type": "code",
   "execution_count": 37,
   "id": "reflected-titanium",
   "metadata": {},
   "outputs": [],
   "source": [
    "#Package"
   ]
  },
  {
   "cell_type": "code",
   "execution_count": 38,
   "id": "animal-rochester",
   "metadata": {},
   "outputs": [],
   "source": [
    "#Class and Objects"
   ]
  },
  {
   "cell_type": "code",
   "execution_count": 39,
   "id": "impressive-rachel",
   "metadata": {},
   "outputs": [],
   "source": [
    "#Exceptions"
   ]
  },
  {
   "cell_type": "code",
   "execution_count": 40,
   "id": "thirty-belarus",
   "metadata": {},
   "outputs": [],
   "source": [
    "#Packages"
   ]
  },
  {
   "cell_type": "code",
   "execution_count": 41,
   "id": "fabulous-concentrate",
   "metadata": {},
   "outputs": [],
   "source": [
    "#Numpy"
   ]
  },
  {
   "cell_type": "code",
   "execution_count": 37,
   "id": "outer-priest",
   "metadata": {},
   "outputs": [],
   "source": [
    "#Pandas\n",
    "import pandas as pd"
   ]
  },
  {
   "cell_type": "code",
   "execution_count": 38,
   "id": "present-accommodation",
   "metadata": {},
   "outputs": [
    {
     "data": {
      "text/html": [
       "<div>\n",
       "<style scoped>\n",
       "    .dataframe tbody tr th:only-of-type {\n",
       "        vertical-align: middle;\n",
       "    }\n",
       "\n",
       "    .dataframe tbody tr th {\n",
       "        vertical-align: top;\n",
       "    }\n",
       "\n",
       "    .dataframe thead th {\n",
       "        text-align: right;\n",
       "    }\n",
       "</style>\n",
       "<table border=\"1\" class=\"dataframe\">\n",
       "  <thead>\n",
       "    <tr style=\"text-align: right;\">\n",
       "      <th></th>\n",
       "      <th>Avg. Area Income</th>\n",
       "      <th>Avg. Area House Age</th>\n",
       "      <th>Avg. Area Number of Rooms</th>\n",
       "      <th>Avg. Area Number of Bedrooms</th>\n",
       "      <th>Area Population</th>\n",
       "      <th>Price</th>\n",
       "      <th>Address</th>\n",
       "    </tr>\n",
       "  </thead>\n",
       "  <tbody>\n",
       "    <tr>\n",
       "      <th>0</th>\n",
       "      <td>79545.458574</td>\n",
       "      <td>5.682861</td>\n",
       "      <td>7.009188</td>\n",
       "      <td>4.09</td>\n",
       "      <td>23086.800503</td>\n",
       "      <td>1.059034e+06</td>\n",
       "      <td>208 Michael Ferry Apt. 674\\nLaurabury, NE 3701...</td>\n",
       "    </tr>\n",
       "    <tr>\n",
       "      <th>1</th>\n",
       "      <td>79248.642455</td>\n",
       "      <td>6.002900</td>\n",
       "      <td>6.730821</td>\n",
       "      <td>3.09</td>\n",
       "      <td>40173.072174</td>\n",
       "      <td>1.505891e+06</td>\n",
       "      <td>188 Johnson Views Suite 079\\nLake Kathleen, CA...</td>\n",
       "    </tr>\n",
       "    <tr>\n",
       "      <th>2</th>\n",
       "      <td>61287.067179</td>\n",
       "      <td>5.865890</td>\n",
       "      <td>8.512727</td>\n",
       "      <td>5.13</td>\n",
       "      <td>36882.159400</td>\n",
       "      <td>1.058988e+06</td>\n",
       "      <td>9127 Elizabeth Stravenue\\nDanieltown, WI 06482...</td>\n",
       "    </tr>\n",
       "    <tr>\n",
       "      <th>3</th>\n",
       "      <td>63345.240046</td>\n",
       "      <td>7.188236</td>\n",
       "      <td>5.586729</td>\n",
       "      <td>3.26</td>\n",
       "      <td>34310.242831</td>\n",
       "      <td>1.260617e+06</td>\n",
       "      <td>USS Barnett\\nFPO AP 44820</td>\n",
       "    </tr>\n",
       "    <tr>\n",
       "      <th>4</th>\n",
       "      <td>59982.197226</td>\n",
       "      <td>5.040555</td>\n",
       "      <td>7.839388</td>\n",
       "      <td>4.23</td>\n",
       "      <td>26354.109472</td>\n",
       "      <td>6.309435e+05</td>\n",
       "      <td>USNS Raymond\\nFPO AE 09386</td>\n",
       "    </tr>\n",
       "  </tbody>\n",
       "</table>\n",
       "</div>"
      ],
      "text/plain": [
       "   Avg. Area Income  Avg. Area House Age  Avg. Area Number of Rooms  \\\n",
       "0      79545.458574             5.682861                   7.009188   \n",
       "1      79248.642455             6.002900                   6.730821   \n",
       "2      61287.067179             5.865890                   8.512727   \n",
       "3      63345.240046             7.188236                   5.586729   \n",
       "4      59982.197226             5.040555                   7.839388   \n",
       "\n",
       "   Avg. Area Number of Bedrooms  Area Population         Price  \\\n",
       "0                          4.09     23086.800503  1.059034e+06   \n",
       "1                          3.09     40173.072174  1.505891e+06   \n",
       "2                          5.13     36882.159400  1.058988e+06   \n",
       "3                          3.26     34310.242831  1.260617e+06   \n",
       "4                          4.23     26354.109472  6.309435e+05   \n",
       "\n",
       "                                             Address  \n",
       "0  208 Michael Ferry Apt. 674\\nLaurabury, NE 3701...  \n",
       "1  188 Johnson Views Suite 079\\nLake Kathleen, CA...  \n",
       "2  9127 Elizabeth Stravenue\\nDanieltown, WI 06482...  \n",
       "3                          USS Barnett\\nFPO AP 44820  \n",
       "4                         USNS Raymond\\nFPO AE 09386  "
      ]
     },
     "execution_count": 38,
     "metadata": {},
     "output_type": "execute_result"
    }
   ],
   "source": [
    "df = pd.read_csv(\"USA_Housing.csv\")\n",
    "df.head()"
   ]
  },
  {
   "cell_type": "code",
   "execution_count": 39,
   "id": "ambient-france",
   "metadata": {},
   "outputs": [
    {
     "name": "stdout",
     "output_type": "stream",
     "text": [
      "<class 'pandas.core.frame.DataFrame'>\n",
      "RangeIndex: 5000 entries, 0 to 4999\n",
      "Data columns (total 7 columns):\n",
      " #   Column                        Non-Null Count  Dtype  \n",
      "---  ------                        --------------  -----  \n",
      " 0   Avg. Area Income              5000 non-null   float64\n",
      " 1   Avg. Area House Age           5000 non-null   float64\n",
      " 2   Avg. Area Number of Rooms     5000 non-null   float64\n",
      " 3   Avg. Area Number of Bedrooms  5000 non-null   float64\n",
      " 4   Area Population               5000 non-null   float64\n",
      " 5   Price                         5000 non-null   float64\n",
      " 6   Address                       5000 non-null   object \n",
      "dtypes: float64(6), object(1)\n",
      "memory usage: 273.6+ KB\n"
     ]
    }
   ],
   "source": [
    "df.info()"
   ]
  },
  {
   "cell_type": "code",
   "execution_count": 40,
   "id": "classical-berry",
   "metadata": {},
   "outputs": [
    {
     "data": {
      "text/html": [
       "<div>\n",
       "<style scoped>\n",
       "    .dataframe tbody tr th:only-of-type {\n",
       "        vertical-align: middle;\n",
       "    }\n",
       "\n",
       "    .dataframe tbody tr th {\n",
       "        vertical-align: top;\n",
       "    }\n",
       "\n",
       "    .dataframe thead th {\n",
       "        text-align: right;\n",
       "    }\n",
       "</style>\n",
       "<table border=\"1\" class=\"dataframe\">\n",
       "  <thead>\n",
       "    <tr style=\"text-align: right;\">\n",
       "      <th></th>\n",
       "      <th>Avg. Area Income</th>\n",
       "      <th>Avg. Area House Age</th>\n",
       "      <th>Avg. Area Number of Rooms</th>\n",
       "      <th>Avg. Area Number of Bedrooms</th>\n",
       "      <th>Area Population</th>\n",
       "      <th>Price</th>\n",
       "    </tr>\n",
       "  </thead>\n",
       "  <tbody>\n",
       "    <tr>\n",
       "      <th>count</th>\n",
       "      <td>5000.000000</td>\n",
       "      <td>5000.000000</td>\n",
       "      <td>5000.000000</td>\n",
       "      <td>5000.000000</td>\n",
       "      <td>5000.000000</td>\n",
       "      <td>5.000000e+03</td>\n",
       "    </tr>\n",
       "    <tr>\n",
       "      <th>mean</th>\n",
       "      <td>68583.108984</td>\n",
       "      <td>5.977222</td>\n",
       "      <td>6.987792</td>\n",
       "      <td>3.981330</td>\n",
       "      <td>36163.516039</td>\n",
       "      <td>1.232073e+06</td>\n",
       "    </tr>\n",
       "    <tr>\n",
       "      <th>std</th>\n",
       "      <td>10657.991214</td>\n",
       "      <td>0.991456</td>\n",
       "      <td>1.005833</td>\n",
       "      <td>1.234137</td>\n",
       "      <td>9925.650114</td>\n",
       "      <td>3.531176e+05</td>\n",
       "    </tr>\n",
       "    <tr>\n",
       "      <th>min</th>\n",
       "      <td>17796.631190</td>\n",
       "      <td>2.644304</td>\n",
       "      <td>3.236194</td>\n",
       "      <td>2.000000</td>\n",
       "      <td>172.610686</td>\n",
       "      <td>1.593866e+04</td>\n",
       "    </tr>\n",
       "    <tr>\n",
       "      <th>25%</th>\n",
       "      <td>61480.562388</td>\n",
       "      <td>5.322283</td>\n",
       "      <td>6.299250</td>\n",
       "      <td>3.140000</td>\n",
       "      <td>29403.928702</td>\n",
       "      <td>9.975771e+05</td>\n",
       "    </tr>\n",
       "    <tr>\n",
       "      <th>50%</th>\n",
       "      <td>68804.286404</td>\n",
       "      <td>5.970429</td>\n",
       "      <td>7.002902</td>\n",
       "      <td>4.050000</td>\n",
       "      <td>36199.406689</td>\n",
       "      <td>1.232669e+06</td>\n",
       "    </tr>\n",
       "    <tr>\n",
       "      <th>75%</th>\n",
       "      <td>75783.338666</td>\n",
       "      <td>6.650808</td>\n",
       "      <td>7.665871</td>\n",
       "      <td>4.490000</td>\n",
       "      <td>42861.290769</td>\n",
       "      <td>1.471210e+06</td>\n",
       "    </tr>\n",
       "    <tr>\n",
       "      <th>max</th>\n",
       "      <td>107701.748378</td>\n",
       "      <td>9.519088</td>\n",
       "      <td>10.759588</td>\n",
       "      <td>6.500000</td>\n",
       "      <td>69621.713378</td>\n",
       "      <td>2.469066e+06</td>\n",
       "    </tr>\n",
       "  </tbody>\n",
       "</table>\n",
       "</div>"
      ],
      "text/plain": [
       "       Avg. Area Income  Avg. Area House Age  Avg. Area Number of Rooms  \\\n",
       "count       5000.000000          5000.000000                5000.000000   \n",
       "mean       68583.108984             5.977222                   6.987792   \n",
       "std        10657.991214             0.991456                   1.005833   \n",
       "min        17796.631190             2.644304                   3.236194   \n",
       "25%        61480.562388             5.322283                   6.299250   \n",
       "50%        68804.286404             5.970429                   7.002902   \n",
       "75%        75783.338666             6.650808                   7.665871   \n",
       "max       107701.748378             9.519088                  10.759588   \n",
       "\n",
       "       Avg. Area Number of Bedrooms  Area Population         Price  \n",
       "count                   5000.000000      5000.000000  5.000000e+03  \n",
       "mean                       3.981330     36163.516039  1.232073e+06  \n",
       "std                        1.234137      9925.650114  3.531176e+05  \n",
       "min                        2.000000       172.610686  1.593866e+04  \n",
       "25%                        3.140000     29403.928702  9.975771e+05  \n",
       "50%                        4.050000     36199.406689  1.232669e+06  \n",
       "75%                        4.490000     42861.290769  1.471210e+06  \n",
       "max                        6.500000     69621.713378  2.469066e+06  "
      ]
     },
     "execution_count": 40,
     "metadata": {},
     "output_type": "execute_result"
    }
   ],
   "source": [
    "df.describe()"
   ]
  },
  {
   "cell_type": "code",
   "execution_count": 43,
   "id": "funky-triumph",
   "metadata": {},
   "outputs": [],
   "source": [
    "#Tabular data"
   ]
  },
  {
   "cell_type": "code",
   "execution_count": 44,
   "id": "eleven-tooth",
   "metadata": {},
   "outputs": [],
   "source": [
    "#Image Data"
   ]
  },
  {
   "cell_type": "code",
   "execution_count": 45,
   "id": "honest-antibody",
   "metadata": {},
   "outputs": [],
   "source": [
    "#PIP"
   ]
  },
  {
   "cell_type": "code",
   "execution_count": 46,
   "id": "technological-tuesday",
   "metadata": {},
   "outputs": [],
   "source": [
    "#Practical first"
   ]
  },
  {
   "cell_type": "code",
   "execution_count": 47,
   "id": "constitutional-flashing",
   "metadata": {},
   "outputs": [],
   "source": [
    "#Hypothesis\n",
    "#Prediction based on existing knowledge\n",
    "# An apple a day keeps Dr away\n",
    "# Ask a question : what are the health benifits\n",
    "# Do some preliminary research : apple have vitamins\n",
    "# Formulate hypothesis\n",
    "# Experiment\n",
    "# Proove"
   ]
  },
  {
   "cell_type": "code",
   "execution_count": 48,
   "id": "adequate-spanking",
   "metadata": {},
   "outputs": [],
   "source": [
    "#Concept Learning"
   ]
  },
  {
   "cell_type": "code",
   "execution_count": 50,
   "id": "focused-relief",
   "metadata": {},
   "outputs": [
    {
     "data": {
      "text/plain": [
       "'\\nconcepts are the mental categories that help us classify objects, events, or ideas, \\nbuilding on the understanding that each object, event, or idea has a set of common relevant features \\n'"
      ]
     },
     "execution_count": 50,
     "metadata": {},
     "output_type": "execute_result"
    }
   ],
   "source": [
    "# Dog is a Concept\n",
    "# concept of Dog is built out of features such as “furry,” “barks,” “four-legged,” “domesticated,” “friendly,” and “loyal.”\n",
    "# \"the search for and listing of attributes that can be used to distinguish exemplars from non exemplars of various categories\"\n",
    "\"\"\"\n",
    "concepts are the mental categories that help us classify objects, events, or ideas, \n",
    "building on the understanding that each object, event, or idea has a set of common relevant features \n",
    "\"\"\""
   ]
  },
  {
   "cell_type": "markdown",
   "id": "racial-morris",
   "metadata": {},
   "source": [
    "\"\"\"\n",
    "concept learning is a strategy which requires a learner to compare and contrast groups or categories \n",
    "that contain concept-relevant features with groups or categories that do not contain concept-relevant features.\n",
    "\"\"\""
   ]
  },
  {
   "cell_type": "markdown",
   "id": "animal-leonard",
   "metadata": {},
   "source": [
    "Discovery – Every baby discovers concepts for itself, such as discovering that each of its fingers can be individually controlled or that care givers are individuals. Although this is perception driven, formation of the concept is more than memorizing perceptions. <br/><br/>\n",
    "\n",
    "Examples – Supervised or unsupervised generalizing from examples may lead to learning a new concept, but concept formation is more than generalizing from examples.<br/><br/>\n",
    "\n",
    "Words – Hearing or reading new words leads to learning new concepts, but forming a new concept is more than learning a dictionary definition. A person may have previously formed a new concept before encountering the word or phrase for it.<br/><br/>\n",
    "\n",
    "Exemplars comparison and contrast \n"
   ]
  },
  {
   "cell_type": "markdown",
   "id": "apparent-rebate",
   "metadata": {},
   "source": [
    "**FIND-S algorithm** <br/> \n",
    "for finding the most specific hypothesis based on a given set of training data samples. <br/>Read the training data from a .CSV file."
   ]
  },
  {
   "cell_type": "code",
   "execution_count": 55,
   "id": "hispanic-afternoon",
   "metadata": {},
   "outputs": [],
   "source": [
    "#Specific Hypothesis\n",
    "#Concept : Dog (color:)"
   ]
  },
  {
   "cell_type": "code",
   "execution_count": 56,
   "id": "automatic-darwin",
   "metadata": {},
   "outputs": [],
   "source": [
    "#Generalized Hypothesis\n",
    "# (Legs)"
   ]
  },
  {
   "cell_type": "markdown",
   "id": "affiliated-violin",
   "metadata": {},
   "source": [
    "The find-S algorithm starts with the most specific hypothesis and generalizes this hypothesis <br/> each time it fails to classify an observed positive training data. <br/>Hence, the Find-S algorithm moves from the most specific hypothesis to the most general hypothesis."
   ]
  },
  {
   "cell_type": "code",
   "execution_count": 57,
   "id": "primary-emperor",
   "metadata": {},
   "outputs": [],
   "source": [
    "import pandas as pd"
   ]
  },
  {
   "cell_type": "code",
   "execution_count": 86,
   "id": "digital-exemption",
   "metadata": {},
   "outputs": [
    {
     "data": {
      "text/html": [
       "<div>\n",
       "<style scoped>\n",
       "    .dataframe tbody tr th:only-of-type {\n",
       "        vertical-align: middle;\n",
       "    }\n",
       "\n",
       "    .dataframe tbody tr th {\n",
       "        vertical-align: top;\n",
       "    }\n",
       "\n",
       "    .dataframe thead th {\n",
       "        text-align: right;\n",
       "    }\n",
       "</style>\n",
       "<table border=\"1\" class=\"dataframe\">\n",
       "  <thead>\n",
       "    <tr style=\"text-align: right;\">\n",
       "      <th></th>\n",
       "      <th>color</th>\n",
       "      <th>legs</th>\n",
       "      <th>dog</th>\n",
       "    </tr>\n",
       "  </thead>\n",
       "  <tbody>\n",
       "    <tr>\n",
       "      <th>0</th>\n",
       "      <td>brown</td>\n",
       "      <td>4</td>\n",
       "      <td>yes</td>\n",
       "    </tr>\n",
       "    <tr>\n",
       "      <th>1</th>\n",
       "      <td>brown</td>\n",
       "      <td>4</td>\n",
       "      <td>yes</td>\n",
       "    </tr>\n",
       "    <tr>\n",
       "      <th>2</th>\n",
       "      <td>black</td>\n",
       "      <td>1</td>\n",
       "      <td>no</td>\n",
       "    </tr>\n",
       "    <tr>\n",
       "      <th>3</th>\n",
       "      <td>green</td>\n",
       "      <td>3</td>\n",
       "      <td>no</td>\n",
       "    </tr>\n",
       "    <tr>\n",
       "      <th>4</th>\n",
       "      <td>gray</td>\n",
       "      <td>4</td>\n",
       "      <td>yes</td>\n",
       "    </tr>\n",
       "  </tbody>\n",
       "</table>\n",
       "</div>"
      ],
      "text/plain": [
       "   color  legs  dog\n",
       "0  brown     4  yes\n",
       "1  brown     4  yes\n",
       "2  black     1   no\n",
       "3  green     3   no\n",
       "4   gray     4  yes"
      ]
     },
     "execution_count": 86,
     "metadata": {},
     "output_type": "execute_result"
    }
   ],
   "source": [
    "data = pd.read_csv('data1.csv')\n",
    "data.head()"
   ]
  },
  {
   "cell_type": "markdown",
   "id": "industrial-vinyl",
   "metadata": {},
   "source": [
    "Start with the most specific hypothesis. <br/>\n",
    "h = {ϕ, ϕ, ϕ, ϕ, ϕ, ϕ} <br/>\n",
    "Take the next example and if it is negative, then no changes occur to the hypothesis. <br/>\n",
    "If the example is positive and we find that our initial hypothesis is too specific then we update our current hypothesis to a general condition. <br/>\n",
    "Keep repeating the above steps till all the training examples are complete.<br/>\n",
    "After we have completed all the training examples we will have the final hypothesis when can use to classify the new examples."
   ]
  },
  {
   "cell_type": "code",
   "execution_count": 88,
   "id": "forward-exchange",
   "metadata": {},
   "outputs": [
    {
     "name": "stdout",
     "output_type": "stream",
     "text": [
      "['yes', 'yes', 'no', 'no', 'yes']\n",
      "[0, 0]\n",
      "['?', 0]\n"
     ]
    }
   ],
   "source": [
    "import pandas as pd\n",
    "data = pd.read_csv('data1.csv')\n",
    "data.head()\n",
    "features = data.iloc[:,:-1].values.tolist()\n",
    "target = data.iloc[:,-1].values.tolist()\n",
    "print(target)\n",
    "h = [0 for x in range(len(features[0]))]\n",
    "print(h)\n",
    "#\n",
    "#\n",
    "# training function to implement find-s algorithm\n",
    "Flag = False\n",
    "pos = 0\n",
    "for ind, val in enumerate(features):\n",
    "    if target[ind] == 'yes' and Flag == False:\n",
    "        pos = ind\n",
    "        Flag = True\n",
    "        positiveExample = val\n",
    "    if ind > pos and target[ind] == 'yes':\n",
    "        for i, f in enumerate(val):\n",
    "            if positiveExample[i] != f:\n",
    "                h[i] = '?'\n",
    "                positiveExample = val\n",
    "            else:\n",
    "                pass\n",
    "print(h)"
   ]
  },
  {
   "cell_type": "code",
   "execution_count": 90,
   "id": "great-torture",
   "metadata": {},
   "outputs": [
    {
     "name": "stdout",
     "output_type": "stream",
     "text": [
      "['yes', 'yes', 'no', 'no', 'yes']\n",
      "The final hypothesis is: ['?', 4]\n"
     ]
    }
   ],
   "source": [
    "import pandas as pd\n",
    "data = pd.read_csv('data1.csv')\n",
    "data.head()\n",
    "features = data.iloc[:,:-1].values.tolist()\n",
    "target = data.iloc[:,-1].values.tolist()\n",
    "print(target)\n",
    "\n",
    "def train(c, t):\n",
    "    for i, val in enumerate(t):\n",
    "        if val == \"yes\":\n",
    "            specific_hypothesis = c[i].copy()\n",
    "            break\n",
    "\n",
    "    for i, val in enumerate(c):\n",
    "        if t[i] == \"yes\":\n",
    "            for x in range(len(specific_hypothesis)):\n",
    "                if val[x] != specific_hypothesis[x]:\n",
    "                    specific_hypothesis[x] = '?'\n",
    "                else:\n",
    "                    pass\n",
    "\n",
    "    return specific_hypothesis\n",
    "\n",
    "\n",
    "# obtaining the final hypothesis\n",
    "print(\"The final hypothesis is:\", train(features, target))"
   ]
  },
  {
   "cell_type": "markdown",
   "id": "arbitrary-vermont",
   "metadata": {},
   "source": [
    "**REGRESSION**"
   ]
  },
  {
   "cell_type": "markdown",
   "id": "accepted-victory",
   "metadata": {},
   "source": [
    "The data shows the results of a recently conducted study on the correlation of the number of hours spent driving with the risk of developing acute backache. Find the equation of the best fit line for this data"
   ]
  },
  {
   "cell_type": "code",
   "execution_count": 1,
   "id": "living-penetration",
   "metadata": {},
   "outputs": [
    {
     "data": {
      "text/plain": [
       "[10, 9, 2, 15, 10, 16, 11, 16]"
      ]
     },
     "execution_count": 1,
     "metadata": {},
     "output_type": "execute_result"
    }
   ],
   "source": [
    "#data given\n",
    "#number of hours spent driving\n",
    "no_of_hours = [10,9,2,15,10,16,11,16]\n",
    "no_of_hours"
   ]
  },
  {
   "cell_type": "code",
   "execution_count": 2,
   "id": "medieval-isolation",
   "metadata": {},
   "outputs": [
    {
     "data": {
      "text/plain": [
       "[95, 80, 10, 50, 45, 98, 38, 93]"
      ]
     },
     "execution_count": 2,
     "metadata": {},
     "output_type": "execute_result"
    }
   ],
   "source": [
    "#data given\n",
    "#risk of developing acute backache\n",
    "risk_score = [95,80,10,50,45,98,38,93]\n",
    "risk_score"
   ]
  },
  {
   "cell_type": "code",
   "execution_count": 3,
   "id": "consistent-coach",
   "metadata": {},
   "outputs": [],
   "source": [
    "import pandas as pd\n",
    "import numpy as np\n",
    "stepSize = 0.01"
   ]
  },
  {
   "cell_type": "code",
   "execution_count": 4,
   "id": "persistent-complaint",
   "metadata": {},
   "outputs": [
    {
     "data": {
      "text/html": [
       "<div>\n",
       "<style scoped>\n",
       "    .dataframe tbody tr th:only-of-type {\n",
       "        vertical-align: middle;\n",
       "    }\n",
       "\n",
       "    .dataframe tbody tr th {\n",
       "        vertical-align: top;\n",
       "    }\n",
       "\n",
       "    .dataframe thead th {\n",
       "        text-align: right;\n",
       "    }\n",
       "</style>\n",
       "<table border=\"1\" class=\"dataframe\">\n",
       "  <thead>\n",
       "    <tr style=\"text-align: right;\">\n",
       "      <th></th>\n",
       "      <th>hours</th>\n",
       "      <th>score</th>\n",
       "    </tr>\n",
       "  </thead>\n",
       "  <tbody>\n",
       "    <tr>\n",
       "      <th>0</th>\n",
       "      <td>10</td>\n",
       "      <td>95</td>\n",
       "    </tr>\n",
       "    <tr>\n",
       "      <th>1</th>\n",
       "      <td>9</td>\n",
       "      <td>80</td>\n",
       "    </tr>\n",
       "    <tr>\n",
       "      <th>2</th>\n",
       "      <td>2</td>\n",
       "      <td>10</td>\n",
       "    </tr>\n",
       "    <tr>\n",
       "      <th>3</th>\n",
       "      <td>15</td>\n",
       "      <td>50</td>\n",
       "    </tr>\n",
       "    <tr>\n",
       "      <th>4</th>\n",
       "      <td>10</td>\n",
       "      <td>45</td>\n",
       "    </tr>\n",
       "  </tbody>\n",
       "</table>\n",
       "</div>"
      ],
      "text/plain": [
       "   hours  score\n",
       "0     10     95\n",
       "1      9     80\n",
       "2      2     10\n",
       "3     15     50\n",
       "4     10     45"
      ]
     },
     "execution_count": 4,
     "metadata": {},
     "output_type": "execute_result"
    }
   ],
   "source": [
    "lr_data = pd.DataFrame(np.column_stack([no_of_hours,risk_score]),columns=['hours','score'])\n",
    "#lr_data = pd.DataFrame({'hours': no_of_hours,'score':risk_score })\n",
    "lr_data.head()"
   ]
  },
  {
   "cell_type": "code",
   "execution_count": 5,
   "id": "little-coalition",
   "metadata": {},
   "outputs": [],
   "source": [
    "def score_for_data(constant, slope, data):\n",
    "    return slope * data + constant   # y = mx + c format"
   ]
  },
  {
   "cell_type": "code",
   "execution_count": 6,
   "id": "western-problem",
   "metadata": {},
   "outputs": [],
   "source": [
    "def step_cost_function_for(risk_score_data, constant, slope) :\n",
    "    global stepSize\n",
    "    diff_sum_constant = 0 # diff of sum for constant 'c' in \"c + mx\" equation\n",
    "    diff_sum_slope = 0  # diff of sum for 'a' in \"c + mx\" equation\n",
    "    hours_for = list(risk_score_data['hours'])\n",
    "\n",
    "    for ho in hours_for: # for each hours in the sample data\n",
    "        k=0\n",
    "        # get the score for given 'c' and 'm' by giving the hours for this sample record\n",
    "        trg_data_score = score_for_data(constant, slope, ho) # calculated score for current 'c' and 'm'\n",
    "        a_hour_score = risk_score_data['score'][k] # real score for this record\n",
    "        diff_sum_slope = diff_sum_slope + ((trg_data_score - a_hour_score) * ho) # slope's (h(y) - y) * x\n",
    "        diff_sum_constant = diff_sum_constant + (trg_data_score - a_hour_score) # consant's (h(y) - y)\n",
    "        k=k+1\n",
    "\n",
    "    step_for_constant = (stepSize / len(risk_score_data)) * diff_sum_constant # distance to be moved by c\n",
    "    step_for_slope = (stepSize / len(risk_score_data)) * diff_sum_slope # distance to be moved by a\n",
    "    new_constant = constant - step_for_constant # new c\n",
    "    new_slope = slope - step_for_slope # new a\n",
    "\n",
    "    return new_constant, new_slope"
   ]
  },
  {
   "cell_type": "code",
   "execution_count": 7,
   "id": "average-leadership",
   "metadata": {},
   "outputs": [],
   "source": [
    "def get_weights(risk_score_data) :\n",
    "    constant = 1\n",
    "    slope = 1\n",
    "    accepted_diff = 0.01\n",
    "\n",
    "    while 1 == 1:  # continue till we reach local minimum\n",
    "        new_constant, new_slope = step_cost_function_for(risk_score_data, constant, slope)\n",
    "        # if the diff is too less then lets break\n",
    "        if (abs(constant - new_constant) <= accepted_diff) and (abs(slope - new_slope) <= accepted_diff):\n",
    "            print(\"done. Diff is less than \" + str(accepted_diff))\n",
    "            return new_constant, new_slope\n",
    "        else:\n",
    "            constant = new_constant\n",
    "            slope = new_slope\n",
    "            print(\"new values for constant and slope are \" + str(new_constant) + \", \" + str(new_slope))"
   ]
  },
  {
   "cell_type": "code",
   "execution_count": null,
   "id": "involved-needle",
   "metadata": {},
   "outputs": [],
   "source": [
    "constant, slope = get_weights(lr_data)\n",
    "print(f\"constant : {constant} and slope : {slope}\")\n",
    "\n",
    "print(f\"Equation is : Y = {slope} * X + {constant}\")"
   ]
  },
  {
   "cell_type": "code",
   "execution_count": null,
   "id": "civic-qualification",
   "metadata": {},
   "outputs": [],
   "source": [
    "y = mx + c"
   ]
  },
  {
   "cell_type": "code",
   "execution_count": null,
   "id": "automated-concord",
   "metadata": {},
   "outputs": [],
   "source": []
  }
 ],
 "metadata": {
  "kernelspec": {
   "display_name": "Python 3",
   "language": "python",
   "name": "python3"
  },
  "language_info": {
   "codemirror_mode": {
    "name": "ipython",
    "version": 3
   },
   "file_extension": ".py",
   "mimetype": "text/x-python",
   "name": "python",
   "nbconvert_exporter": "python",
   "pygments_lexer": "ipython3",
   "version": "3.8.6"
  }
 },
 "nbformat": 4,
 "nbformat_minor": 5
}
